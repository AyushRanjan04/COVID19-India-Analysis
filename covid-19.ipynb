{
 "cells": [
  {
   "cell_type": "code",
   "execution_count": 4,
   "id": "090e9b4e",
   "metadata": {},
   "outputs": [],
   "source": [
    "import requests\n",
    "import pandas as pd\n",
    "import numpy as np"
   ]
  },
  {
   "cell_type": "markdown",
   "id": "86dcaabc-140d-4e8f-bd11-d7459e379f92",
   "metadata": {},
   "source": [
    "**<h4>States Values Collections</h4>**"
   ]
  },
  {
   "cell_type": "code",
   "execution_count": 5,
   "id": "641ce549-5952-4858-85fa-a2e3af52acfd",
   "metadata": {},
   "outputs": [],
   "source": [
    "# states full names\n",
    "\n",
    "dic_state_name = {'AP': 'Andhra Pradesh',\n",
    " 'AR': 'Arunachal Pradesh',\n",
    " 'AS': 'Assam',\n",
    " 'BR': 'Bihar',\n",
    " 'CT': 'Chhattisgarh',\n",
    " 'GA': 'Goa',\n",
    " 'GJ': 'Gujarat',\n",
    " 'HR': 'Haryana',\n",
    " 'HP': 'Himachal Pradesh',\n",
    " 'JH': 'Jharkhand',\n",
    " 'KA': 'Karnataka',\n",
    " 'KL': 'Kerala',\n",
    " 'MP': 'Madhya Pradesh',\n",
    " 'MH': 'Maharashtra',\n",
    " 'MN': 'Manipur',\n",
    " 'ML': 'Meghalaya',\n",
    " 'MZ': 'Mizoram',\n",
    " 'NL': 'Nagaland',\n",
    " 'OR': 'Odisha',\n",
    " 'PB': 'Punjab',\n",
    " 'RJ': 'Rajasthan',\n",
    " 'SK': 'Sikkim',\n",
    " 'TN': 'Tamil Nadu',\n",
    " 'TG': 'Telangana',\n",
    " 'TR': 'Tripura',\n",
    " 'UP': 'Uttar Pradesh',\n",
    " 'UT': 'Uttarakhand',\n",
    " 'WB': 'West Bengal',\n",
    " 'AN': 'Andaman and Nicobar Islands',\n",
    " 'CH': 'Chandigarh',\n",
    " 'DN': 'Dadra and Nagar Haveli and Daman and Diu',\n",
    " 'DL': 'Delhi',\n",
    " 'JK': 'Jammu and Kashmir',\n",
    " 'LA': 'Ladakh',\n",
    " 'LD': 'Lakshadweep',\n",
    " 'PY': 'Puducherry'}"
   ]
  },
  {
   "cell_type": "code",
   "execution_count": 6,
   "id": "60cc31c0-bbae-4a6e-a422-73020da62d85",
   "metadata": {},
   "outputs": [],
   "source": [
    "state_data = requests.get('https://data.covid19india.org/v4/min/data.min.json')"
   ]
  },
  {
   "cell_type": "code",
   "execution_count": 7,
   "id": "7bd71f0d-3bec-4d70-be60-d0603d7baba6",
   "metadata": {},
   "outputs": [
    {
     "data": {
      "text/plain": [
       "<Response [200]>"
      ]
     },
     "execution_count": 7,
     "metadata": {},
     "output_type": "execute_result"
    }
   ],
   "source": [
    "state_data"
   ]
  },
  {
   "cell_type": "code",
   "execution_count": 8,
   "id": "3848375a-51d5-4f9d-afc2-0123039546e0",
   "metadata": {},
   "outputs": [],
   "source": [
    "states = state_data.json()"
   ]
  },
  {
   "cell_type": "code",
   "execution_count": 9,
   "id": "4879d4e5",
   "metadata": {},
   "outputs": [
    {
     "data": {
      "text/plain": [
       "{'delta': {'tested': 1376, 'vaccinated1': 3, 'vaccinated2': 13},\n",
       " 'delta21_14': {'confirmed': 9},\n",
       " 'delta7': {'confirmed': 3,\n",
       "  'recovered': 5,\n",
       "  'tested': 8936,\n",
       "  'vaccinated1': 884,\n",
       "  'vaccinated2': 10640},\n",
       " 'districts': {'Nicobars': {'delta7': {'vaccinated1': 62, 'vaccinated2': 811},\n",
       "   'meta': {'population': 36842},\n",
       "   'total': {'vaccinated1': 25394, 'vaccinated2': 20313}},\n",
       "  'North and Middle Andaman': {'delta': {'vaccinated2': 8},\n",
       "   'delta7': {'vaccinated1': 90, 'vaccinated2': 1839},\n",
       "   'meta': {'population': 105597},\n",
       "   'total': {'vaccinated1': 78945, 'vaccinated2': 59522}},\n",
       "  'South Andaman': {'delta': {'vaccinated1': 3, 'vaccinated2': 28},\n",
       "   'delta7': {'vaccinated1': 732, 'vaccinated2': 8012},\n",
       "   'meta': {'population': 238142},\n",
       "   'total': {'vaccinated1': 189662, 'vaccinated2': 120322}},\n",
       "  'Unknown': {'delta21_14': {'confirmed': 9},\n",
       "   'delta7': {'confirmed': 3, 'recovered': 5},\n",
       "   'total': {'confirmed': 7651, 'deceased': 129, 'recovered': 7518}}},\n",
       " 'meta': {'date': '2021-10-31',\n",
       "  'last_updated': '2021-11-01T11:03:10+05:30',\n",
       "  'population': 397000,\n",
       "  'tested': {'date': '2021-10-31',\n",
       "   'source': 'https://dhs.andaman.gov.in/NewEvents/851.pdf'},\n",
       "  'vaccinated': {'date': '2021-10-31'}},\n",
       " 'total': {'confirmed': 7651,\n",
       "  'deceased': 129,\n",
       "  'recovered': 7518,\n",
       "  'tested': 598033,\n",
       "  'vaccinated1': 294001,\n",
       "  'vaccinated2': 200157}}"
      ]
     },
     "execution_count": 9,
     "metadata": {},
     "output_type": "execute_result"
    }
   ],
   "source": [
    "states[\"AN\"]"
   ]
  },
  {
   "cell_type": "markdown",
   "id": "230b3bd0-b013-4712-8309-4a0e935bc077",
   "metadata": {},
   "source": [
    "**<h1>Total States Data</h1>**"
   ]
  },
  {
   "cell_type": "code",
   "execution_count": 10,
   "id": "d52d5b44-0bd8-4a53-9a3e-38900a2a0ca8",
   "metadata": {},
   "outputs": [],
   "source": [
    "# loopng through the data for the total states data\n",
    "states_total = []\n",
    "\n",
    "for i in states.keys():\n",
    "    if i not in 'TT':\n",
    "        state = i\n",
    "        population = int(states[i]['meta']['population'])\n",
    "        deceased = int(states[i]['total']['deceased'])\n",
    "        recovered = int(states[i]['total']['recovered'])\n",
    "        tested = int(states[i]['total']['tested'])\n",
    "        vaccinated1 = int(states[i]['total']['vaccinated1'])\n",
    "        vaccinated2 = int(states[i]['total']['vaccinated2'])\n",
    "\n",
    "        dictionary_state_total = {'state' : dic_state_name[state], 'state_short' : state, 'state_total_population' : population, 'state_total_deceased' : deceased, 'state_total_recovered' : recovered, 'state_total_tested' : tested, 'state_total_vaccinated_1' : vaccinated1, ' state_total_vaccinated_2' :vaccinated2}\n",
    "        states_total.append(dictionary_state_total)"
   ]
  },
  {
   "cell_type": "code",
   "execution_count": 11,
   "id": "0817fb95-dd01-4b46-8975-d430730db4fa",
   "metadata": {},
   "outputs": [
    {
     "name": "stdout",
     "output_type": "stream",
     "text": [
      "36\n"
     ]
    },
    {
     "data": {
      "text/html": [
       "<div>\n",
       "<style scoped>\n",
       "    .dataframe tbody tr th:only-of-type {\n",
       "        vertical-align: middle;\n",
       "    }\n",
       "\n",
       "    .dataframe tbody tr th {\n",
       "        vertical-align: top;\n",
       "    }\n",
       "\n",
       "    .dataframe thead th {\n",
       "        text-align: right;\n",
       "    }\n",
       "</style>\n",
       "<table border=\"1\" class=\"dataframe\">\n",
       "  <thead>\n",
       "    <tr style=\"text-align: right;\">\n",
       "      <th></th>\n",
       "      <th>state</th>\n",
       "      <th>state_short</th>\n",
       "      <th>state_total_population</th>\n",
       "      <th>state_total_deceased</th>\n",
       "      <th>state_total_recovered</th>\n",
       "      <th>state_total_tested</th>\n",
       "      <th>state_total_vaccinated_1</th>\n",
       "      <th>state_total_vaccinated_2</th>\n",
       "    </tr>\n",
       "  </thead>\n",
       "  <tbody>\n",
       "    <tr>\n",
       "      <th>0</th>\n",
       "      <td>Andaman and Nicobar Islands</td>\n",
       "      <td>AN</td>\n",
       "      <td>397000</td>\n",
       "      <td>129</td>\n",
       "      <td>7518</td>\n",
       "      <td>598033</td>\n",
       "      <td>294001</td>\n",
       "      <td>200157</td>\n",
       "    </tr>\n",
       "    <tr>\n",
       "      <th>1</th>\n",
       "      <td>Andhra Pradesh</td>\n",
       "      <td>AP</td>\n",
       "      <td>52221000</td>\n",
       "      <td>14373</td>\n",
       "      <td>2047722</td>\n",
       "      <td>29518787</td>\n",
       "      <td>32976969</td>\n",
       "      <td>20375181</td>\n",
       "    </tr>\n",
       "    <tr>\n",
       "      <th>2</th>\n",
       "      <td>Arunachal Pradesh</td>\n",
       "      <td>AR</td>\n",
       "      <td>1504000</td>\n",
       "      <td>280</td>\n",
       "      <td>54774</td>\n",
       "      <td>1185436</td>\n",
       "      <td>771875</td>\n",
       "      <td>534486</td>\n",
       "    </tr>\n",
       "    <tr>\n",
       "      <th>3</th>\n",
       "      <td>Assam</td>\n",
       "      <td>AS</td>\n",
       "      <td>34293000</td>\n",
       "      <td>5997</td>\n",
       "      <td>600974</td>\n",
       "      <td>24712042</td>\n",
       "      <td>20172463</td>\n",
       "      <td>8068795</td>\n",
       "    </tr>\n",
       "    <tr>\n",
       "      <th>4</th>\n",
       "      <td>Bihar</td>\n",
       "      <td>BR</td>\n",
       "      <td>119520000</td>\n",
       "      <td>9661</td>\n",
       "      <td>716390</td>\n",
       "      <td>50531824</td>\n",
       "      <td>49874828</td>\n",
       "      <td>18346781</td>\n",
       "    </tr>\n",
       "  </tbody>\n",
       "</table>\n",
       "</div>"
      ],
      "text/plain": [
       "                         state state_short  state_total_population  \\\n",
       "0  Andaman and Nicobar Islands          AN                  397000   \n",
       "1               Andhra Pradesh          AP                52221000   \n",
       "2            Arunachal Pradesh          AR                 1504000   \n",
       "3                        Assam          AS                34293000   \n",
       "4                        Bihar          BR               119520000   \n",
       "\n",
       "   state_total_deceased  state_total_recovered  state_total_tested  \\\n",
       "0                   129                   7518              598033   \n",
       "1                 14373                2047722            29518787   \n",
       "2                   280                  54774             1185436   \n",
       "3                  5997                 600974            24712042   \n",
       "4                  9661                 716390            50531824   \n",
       "\n",
       "   state_total_vaccinated_1   state_total_vaccinated_2  \n",
       "0                    294001                     200157  \n",
       "1                  32976969                   20375181  \n",
       "2                    771875                     534486  \n",
       "3                  20172463                    8068795  \n",
       "4                  49874828                   18346781  "
      ]
     },
     "execution_count": 11,
     "metadata": {},
     "output_type": "execute_result"
    }
   ],
   "source": [
    "# creating dataframe of states total\n",
    "\n",
    "states_total_df = pd.DataFrame(states_total)\n",
    "print(len(states_total_df))\n",
    "states_total_df.head(5)"
   ]
  },
  {
   "cell_type": "code",
   "execution_count": 12,
   "id": "564fa855-608f-479d-920c-2a2e2c2ed4a8",
   "metadata": {},
   "outputs": [],
   "source": [
    "# converting to csv states total\n",
    "states_total_df.to_csv('states_total_df',index=False)"
   ]
  },
  {
   "cell_type": "code",
   "execution_count": 13,
   "id": "9de7087c",
   "metadata": {},
   "outputs": [],
   "source": [
    "# states[\"AN\"]"
   ]
  },
  {
   "cell_type": "markdown",
   "id": "54d0520b",
   "metadata": {},
   "source": [
    "**<h4>States Delta</h4>**"
   ]
  },
  {
   "cell_type": "code",
   "execution_count": 14,
   "id": "8769b333",
   "metadata": {},
   "outputs": [],
   "source": [
    "#  loopng through the data for delta of states\n",
    "\n",
    "states_delta = []\n",
    "for i in states.keys():\n",
    "    if i != 'TT':\n",
    "        state = i\n",
    "        confirmed = 0\n",
    "        recovered = 0\n",
    "        deceased = 0\n",
    "        tested = 0\n",
    "        vaccinated1 = 0\n",
    "        vaccinated2 = 0\n",
    "        if 'confirmed' in states[i]['delta']:\n",
    "            confirmed += int(states[i]['delta']['confirmed'])\n",
    "\n",
    "        if 'recovered' in states[i]['delta']:\n",
    "            recovered += int(states[i]['delta']['recovered'])\n",
    "\n",
    "        if 'deceased' in states[i]['delta']:\n",
    "            deceased += int(states[i]['delta']['deceased'])\n",
    "\n",
    "        if 'tested' in states[i]['delta']:\n",
    "            tested += int(states[i]['delta']['tested'])\n",
    "\n",
    "        if 'vaccinated1' in states[i]['delta']:\n",
    "            vaccinated1 += int(states[i]['delta']['vaccinated1'])\n",
    "\n",
    "        if 'vaccinated2' in states[i]['delta']:\n",
    "            vaccinated2 += int(states[i]['delta']['vaccinated2'])\n",
    "\n",
    "        dictionary_state_delta = {'state' : dic_state_name[state], 'state_short' : state, 'state_delta_confirmed' : confirmed, 'state_delta_recovered' : recovered, 'state_delta_deceased' : deceased, 'state_delta_tested' : tested, 'state_delta_vaccinated_1' : vaccinated1, 'state_delta_vaccinated_2' : vaccinated2}\n",
    "        states_delta.append(dictionary_state_delta)"
   ]
  },
  {
   "cell_type": "code",
   "execution_count": 15,
   "id": "f785e74d",
   "metadata": {},
   "outputs": [
    {
     "name": "stdout",
     "output_type": "stream",
     "text": [
      "36\n"
     ]
    },
    {
     "data": {
      "text/html": [
       "<div>\n",
       "<style scoped>\n",
       "    .dataframe tbody tr th:only-of-type {\n",
       "        vertical-align: middle;\n",
       "    }\n",
       "\n",
       "    .dataframe tbody tr th {\n",
       "        vertical-align: top;\n",
       "    }\n",
       "\n",
       "    .dataframe thead th {\n",
       "        text-align: right;\n",
       "    }\n",
       "</style>\n",
       "<table border=\"1\" class=\"dataframe\">\n",
       "  <thead>\n",
       "    <tr style=\"text-align: right;\">\n",
       "      <th></th>\n",
       "      <th>state</th>\n",
       "      <th>state_short</th>\n",
       "      <th>state_delta_confirmed</th>\n",
       "      <th>state_delta_recovered</th>\n",
       "      <th>state_delta_deceased</th>\n",
       "      <th>state_delta_tested</th>\n",
       "      <th>state_delta_vaccinated_1</th>\n",
       "      <th>state_delta_vaccinated_2</th>\n",
       "    </tr>\n",
       "  </thead>\n",
       "  <tbody>\n",
       "    <tr>\n",
       "      <th>0</th>\n",
       "      <td>Andaman and Nicobar Islands</td>\n",
       "      <td>AN</td>\n",
       "      <td>0</td>\n",
       "      <td>0</td>\n",
       "      <td>0</td>\n",
       "      <td>1376</td>\n",
       "      <td>3</td>\n",
       "      <td>13</td>\n",
       "    </tr>\n",
       "    <tr>\n",
       "      <th>1</th>\n",
       "      <td>Andhra Pradesh</td>\n",
       "      <td>AP</td>\n",
       "      <td>385</td>\n",
       "      <td>675</td>\n",
       "      <td>4</td>\n",
       "      <td>39848</td>\n",
       "      <td>20497</td>\n",
       "      <td>24137</td>\n",
       "    </tr>\n",
       "    <tr>\n",
       "      <th>2</th>\n",
       "      <td>Arunachal Pradesh</td>\n",
       "      <td>AR</td>\n",
       "      <td>1</td>\n",
       "      <td>9</td>\n",
       "      <td>0</td>\n",
       "      <td>334</td>\n",
       "      <td>42</td>\n",
       "      <td>195</td>\n",
       "    </tr>\n",
       "    <tr>\n",
       "      <th>3</th>\n",
       "      <td>Assam</td>\n",
       "      <td>AS</td>\n",
       "      <td>212</td>\n",
       "      <td>236</td>\n",
       "      <td>1</td>\n",
       "      <td>15060</td>\n",
       "      <td>19124</td>\n",
       "      <td>37463</td>\n",
       "    </tr>\n",
       "    <tr>\n",
       "      <th>4</th>\n",
       "      <td>Bihar</td>\n",
       "      <td>BR</td>\n",
       "      <td>8</td>\n",
       "      <td>9</td>\n",
       "      <td>0</td>\n",
       "      <td>226443</td>\n",
       "      <td>114694</td>\n",
       "      <td>145827</td>\n",
       "    </tr>\n",
       "  </tbody>\n",
       "</table>\n",
       "</div>"
      ],
      "text/plain": [
       "                         state state_short  state_delta_confirmed  \\\n",
       "0  Andaman and Nicobar Islands          AN                      0   \n",
       "1               Andhra Pradesh          AP                    385   \n",
       "2            Arunachal Pradesh          AR                      1   \n",
       "3                        Assam          AS                    212   \n",
       "4                        Bihar          BR                      8   \n",
       "\n",
       "   state_delta_recovered  state_delta_deceased  state_delta_tested  \\\n",
       "0                      0                     0                1376   \n",
       "1                    675                     4               39848   \n",
       "2                      9                     0                 334   \n",
       "3                    236                     1               15060   \n",
       "4                      9                     0              226443   \n",
       "\n",
       "   state_delta_vaccinated_1  state_delta_vaccinated_2  \n",
       "0                         3                        13  \n",
       "1                     20497                     24137  \n",
       "2                        42                       195  \n",
       "3                     19124                     37463  \n",
       "4                    114694                    145827  "
      ]
     },
     "execution_count": 15,
     "metadata": {},
     "output_type": "execute_result"
    }
   ],
   "source": [
    "# creating dataframe of states delta\n",
    "states_delta_df = pd.DataFrame(states_delta)\n",
    "print(len(states_delta_df))\n",
    "states_delta_df.head()"
   ]
  },
  {
   "cell_type": "code",
   "execution_count": 16,
   "id": "6631728a",
   "metadata": {},
   "outputs": [],
   "source": [
    "# converting to csv states delta\n",
    "states_delta_df.to_csv('states_delta_df',index=False)"
   ]
  },
  {
   "cell_type": "code",
   "execution_count": null,
   "id": "9718ff22",
   "metadata": {},
   "outputs": [],
   "source": []
  },
  {
   "cell_type": "code",
   "execution_count": null,
   "id": "8250ecad",
   "metadata": {},
   "outputs": [],
   "source": []
  },
  {
   "cell_type": "code",
   "execution_count": null,
   "id": "4c167293",
   "metadata": {},
   "outputs": [],
   "source": []
  },
  {
   "cell_type": "code",
   "execution_count": null,
   "id": "b4e21d7f",
   "metadata": {},
   "outputs": [],
   "source": []
  },
  {
   "cell_type": "code",
   "execution_count": null,
   "id": "0be6f68d",
   "metadata": {},
   "outputs": [],
   "source": []
  },
  {
   "cell_type": "code",
   "execution_count": null,
   "id": "46aaf4b7",
   "metadata": {},
   "outputs": [],
   "source": []
  }
 ],
 "metadata": {
  "kernelspec": {
   "display_name": "Python 3 (ipykernel)",
   "language": "python",
   "name": "python3"
  },
  "language_info": {
   "codemirror_mode": {
    "name": "ipython",
    "version": 3
   },
   "file_extension": ".py",
   "mimetype": "text/x-python",
   "name": "python",
   "nbconvert_exporter": "python",
   "pygments_lexer": "ipython3",
   "version": "3.10.2"
  }
 },
 "nbformat": 4,
 "nbformat_minor": 5
}
