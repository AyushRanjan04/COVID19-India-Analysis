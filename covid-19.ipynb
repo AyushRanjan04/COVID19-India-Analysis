{
 "cells": [
  {
   "cell_type": "code",
   "execution_count": 1,
   "id": "2e6b5e5e-9a15-4218-9668-5475cc1dc321",
   "metadata": {},
   "outputs": [],
   "source": [
    "import requests\n",
    "import pandas as pd\n",
    "import numpy as np"
   ]
  },
  {
   "cell_type": "markdown",
   "id": "86dcaabc-140d-4e8f-bd11-d7459e379f92",
   "metadata": {},
   "source": [
    "**<h1>States Values Collections</h1>**"
   ]
  },
  {
   "cell_type": "code",
   "execution_count": 2,
   "id": "641ce549-5952-4858-85fa-a2e3af52acfd",
   "metadata": {},
   "outputs": [],
   "source": [
    "# states full names\n",
    "\n",
    "dic_state_name = {'AP': 'Andhra Pradesh',\n",
    " 'AR': 'Arunachal Pradesh',\n",
    " 'AS': 'Assam',\n",
    " 'BR': 'Bihar',\n",
    " 'CT': 'Chhattisgarh',\n",
    " 'GA': 'Goa',\n",
    " 'GJ': 'Gujarat',\n",
    " 'HR': 'Haryana',\n",
    " 'HP': 'Himachal Pradesh',\n",
    " 'JH': 'Jharkhand',\n",
    " 'KA': 'Karnataka',\n",
    " 'KL': 'Kerala',\n",
    " 'MP': 'Madhya Pradesh',\n",
    " 'MH': 'Maharashtra',\n",
    " 'MN': 'Manipur',\n",
    " 'ML': 'Meghalaya',\n",
    " 'MZ': 'Mizoram',\n",
    " 'NL': 'Nagaland',\n",
    " 'OR': 'Odisha',\n",
    " 'PB': 'Punjab',\n",
    " 'RJ': 'Rajasthan',\n",
    " 'SK': 'Sikkim',\n",
    " 'TN': 'Tamil Nadu',\n",
    " 'TG': 'Telangana',\n",
    " 'TR': 'Tripura',\n",
    " 'UP': 'Uttar Pradesh',\n",
    " 'UT': 'Uttarakhand',\n",
    " 'WB': 'West Bengal',\n",
    " 'AN': 'Andaman and Nicobar Islands',\n",
    " 'CH': 'Chandigarh',\n",
    " 'DN': 'Dadra and Nagar Haveli and Daman and Diu',\n",
    " 'DL': 'Delhi',\n",
    " 'JK': 'Jammu and Kashmir',\n",
    " 'LA': 'Ladakh',\n",
    " 'LD': 'Lakshadweep',\n",
    " 'PY': 'Puducherry'}"
   ]
  },
  {
   "cell_type": "code",
   "execution_count": 3,
   "id": "60cc31c0-bbae-4a6e-a422-73020da62d85",
   "metadata": {},
   "outputs": [],
   "source": [
    "state_data = requests.get('https://data.covid19india.org/v4/min/data.min.json')"
   ]
  },
  {
   "cell_type": "code",
   "execution_count": 5,
   "id": "7bd71f0d-3bec-4d70-be60-d0603d7baba6",
   "metadata": {},
   "outputs": [
    {
     "data": {
      "text/plain": [
       "<Response [200]>"
      ]
     },
     "execution_count": 5,
     "metadata": {},
     "output_type": "execute_result"
    }
   ],
   "source": [
    "state_data"
   ]
  },
  {
   "cell_type": "code",
   "execution_count": 6,
   "id": "3848375a-51d5-4f9d-afc2-0123039546e0",
   "metadata": {},
   "outputs": [],
   "source": [
    "states = state_data.json()"
   ]
  },
  {
   "cell_type": "markdown",
   "id": "230b3bd0-b013-4712-8309-4a0e935bc077",
   "metadata": {},
   "source": [
    "**<h1>Total States Data</h1>**"
   ]
  },
  {
   "cell_type": "code",
   "execution_count": 7,
   "id": "d52d5b44-0bd8-4a53-9a3e-38900a2a0ca8",
   "metadata": {},
   "outputs": [],
   "source": [
    "# loopng through the data for the total states data\n",
    "states_total = []\n",
    "\n",
    "for i in states.keys():\n",
    "    if i not in 'TT':\n",
    "        state = i\n",
    "        population = int(states[i]['meta']['population'])\n",
    "        deceased = int(states[i]['total']['deceased'])\n",
    "        recovered = int(states[i]['total']['recovered'])\n",
    "        tested = int(states[i]['total']['tested'])\n",
    "        vaccinated1 = int(states[i]['total']['vaccinated1'])\n",
    "        vaccinated2 = int(states[i]['total']['vaccinated2'])\n",
    "\n",
    "        dictionary_state_total = {'state' : dic_state_name[state], 'state_short' : state, 'state_total_population' : population, 'state_total_deceased' : deceased, 'state_total_recovered' : recovered, 'state_total_tested' : tested, 'state_total_vaccinated_1' : vaccinated1, ' state_total_vaccinated_2' :vaccinated2}\n",
    "        states_total.append(dictionary_state_total)"
   ]
  },
  {
   "cell_type": "code",
   "execution_count": 10,
   "id": "0817fb95-dd01-4b46-8975-d430730db4fa",
   "metadata": {},
   "outputs": [
    {
     "name": "stdout",
     "output_type": "stream",
     "text": [
      "36\n"
     ]
    },
    {
     "data": {
      "text/html": [
       "<div>\n",
       "<style scoped>\n",
       "    .dataframe tbody tr th:only-of-type {\n",
       "        vertical-align: middle;\n",
       "    }\n",
       "\n",
       "    .dataframe tbody tr th {\n",
       "        vertical-align: top;\n",
       "    }\n",
       "\n",
       "    .dataframe thead th {\n",
       "        text-align: right;\n",
       "    }\n",
       "</style>\n",
       "<table border=\"1\" class=\"dataframe\">\n",
       "  <thead>\n",
       "    <tr style=\"text-align: right;\">\n",
       "      <th></th>\n",
       "      <th>state</th>\n",
       "      <th>state_short</th>\n",
       "      <th>state_total_population</th>\n",
       "      <th>state_total_deceased</th>\n",
       "      <th>state_total_recovered</th>\n",
       "      <th>state_total_tested</th>\n",
       "      <th>state_total_vaccinated_1</th>\n",
       "      <th>state_total_vaccinated_2</th>\n",
       "    </tr>\n",
       "  </thead>\n",
       "  <tbody>\n",
       "    <tr>\n",
       "      <th>0</th>\n",
       "      <td>Andaman and Nicobar Islands</td>\n",
       "      <td>AN</td>\n",
       "      <td>397000</td>\n",
       "      <td>129</td>\n",
       "      <td>7518</td>\n",
       "      <td>598033</td>\n",
       "      <td>294001</td>\n",
       "      <td>200157</td>\n",
       "    </tr>\n",
       "    <tr>\n",
       "      <th>1</th>\n",
       "      <td>Andhra Pradesh</td>\n",
       "      <td>AP</td>\n",
       "      <td>52221000</td>\n",
       "      <td>14373</td>\n",
       "      <td>2047722</td>\n",
       "      <td>29518787</td>\n",
       "      <td>32976969</td>\n",
       "      <td>20375181</td>\n",
       "    </tr>\n",
       "    <tr>\n",
       "      <th>2</th>\n",
       "      <td>Arunachal Pradesh</td>\n",
       "      <td>AR</td>\n",
       "      <td>1504000</td>\n",
       "      <td>280</td>\n",
       "      <td>54774</td>\n",
       "      <td>1185436</td>\n",
       "      <td>771875</td>\n",
       "      <td>534486</td>\n",
       "    </tr>\n",
       "    <tr>\n",
       "      <th>3</th>\n",
       "      <td>Assam</td>\n",
       "      <td>AS</td>\n",
       "      <td>34293000</td>\n",
       "      <td>5997</td>\n",
       "      <td>600974</td>\n",
       "      <td>24712042</td>\n",
       "      <td>20172463</td>\n",
       "      <td>8068795</td>\n",
       "    </tr>\n",
       "    <tr>\n",
       "      <th>4</th>\n",
       "      <td>Bihar</td>\n",
       "      <td>BR</td>\n",
       "      <td>119520000</td>\n",
       "      <td>9661</td>\n",
       "      <td>716390</td>\n",
       "      <td>50531824</td>\n",
       "      <td>49874828</td>\n",
       "      <td>18346781</td>\n",
       "    </tr>\n",
       "  </tbody>\n",
       "</table>\n",
       "</div>"
      ],
      "text/plain": [
       "                         state state_short  state_total_population  \\\n",
       "0  Andaman and Nicobar Islands          AN                  397000   \n",
       "1               Andhra Pradesh          AP                52221000   \n",
       "2            Arunachal Pradesh          AR                 1504000   \n",
       "3                        Assam          AS                34293000   \n",
       "4                        Bihar          BR               119520000   \n",
       "\n",
       "   state_total_deceased  state_total_recovered  state_total_tested  \\\n",
       "0                   129                   7518              598033   \n",
       "1                 14373                2047722            29518787   \n",
       "2                   280                  54774             1185436   \n",
       "3                  5997                 600974            24712042   \n",
       "4                  9661                 716390            50531824   \n",
       "\n",
       "   state_total_vaccinated_1   state_total_vaccinated_2  \n",
       "0                    294001                     200157  \n",
       "1                  32976969                   20375181  \n",
       "2                    771875                     534486  \n",
       "3                  20172463                    8068795  \n",
       "4                  49874828                   18346781  "
      ]
     },
     "execution_count": 10,
     "metadata": {},
     "output_type": "execute_result"
    }
   ],
   "source": [
    "# creating dataframe of states total\n",
    "\n",
    "states_total_df = pd.DataFrame(states_total)\n",
    "print(len(states_total_df))\n",
    "states_total_df.head(5)"
   ]
  },
  {
   "cell_type": "code",
   "execution_count": 11,
   "id": "564fa855-608f-479d-920c-2a2e2c2ed4a8",
   "metadata": {},
   "outputs": [],
   "source": [
    "# converting to csv states total\n",
    "states_total_df.to_csv('states_total_df',index=False)"
   ]
  }
 ],
 "metadata": {
  "kernelspec": {
   "display_name": "Python 3 (ipykernel)",
   "language": "python",
   "name": "python3"
  },
  "language_info": {
   "codemirror_mode": {
    "name": "ipython",
    "version": 3
   },
   "file_extension": ".py",
   "mimetype": "text/x-python",
   "name": "python",
   "nbconvert_exporter": "python",
   "pygments_lexer": "ipython3",
   "version": "3.11.7"
  }
 },
 "nbformat": 4,
 "nbformat_minor": 5
}
